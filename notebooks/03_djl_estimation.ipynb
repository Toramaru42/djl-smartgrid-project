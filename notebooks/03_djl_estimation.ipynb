{
  "nbformat": 4,
  "nbformat_minor": 0,
  "metadata": {
    "colab": {
      "provenance": [],
      "authorship_tag": "ABX9TyMVduosP7wMTZQmy0gcFb4W",
      "include_colab_link": true
    },
    "kernelspec": {
      "name": "python3",
      "display_name": "Python 3"
    },
    "language_info": {
      "name": "python"
    }
  },
  "cells": [
    {
      "cell_type": "markdown",
      "metadata": {
        "id": "view-in-github",
        "colab_type": "text"
      },
      "source": [
        "<a href=\"https://colab.research.google.com/github/Toramaru42/djl-smartgrid-project/blob/main/notebooks/03_djl_estimation.ipynb\" target=\"_parent\"><img src=\"https://colab.research.google.com/assets/colab-badge.svg\" alt=\"Open In Colab\"/></a>"
      ]
    },
    {
      "cell_type": "code",
      "execution_count": null,
      "metadata": {
        "id": "ZkmTA3JlCNyJ"
      },
      "outputs": [],
      "source": [
        "import numpy as np\n",
        "import pandas as pd\n",
        "import joblib\n",
        "import matplotlib.pyplot as plt"
      ]
    },
    {
      "cell_type": "code",
      "source": [
        "X = pd.read_csv(\"/content/drive/MyDrive/卒論/data/X.csv\")\n",
        "A = pd.read_csv(\"/content/drive/MyDrive/卒論/data/A.csv\").values  # 2D\n",
        "Y = pd.read_csv(\"/content/drive/MyDrive/卒論/data/Y.csv\").values.ravel()  # 1D"
      ],
      "metadata": {
        "id": "f8af0F_SCRco"
      },
      "execution_count": null,
      "outputs": []
    },
    {
      "cell_type": "code",
      "source": [
        "# 前のノートブックで保存したモデル\n",
        "model = joblib.load(\"/content/drive/MyDrive/卒論/results/models/mlp_q_model.pkl\")"
      ],
      "metadata": {
        "id": "6sPmR8mKCk5r"
      },
      "execution_count": null,
      "outputs": []
    },
    {
      "cell_type": "code",
      "source": [
        "import sys\n",
        "sys.path.append('/content/src')\n",
        "\n",
        "from djl import DJL\n"
      ],
      "metadata": {
        "id": "H0bb5pNHEPIf"
      },
      "execution_count": null,
      "outputs": []
    },
    {
      "cell_type": "code",
      "source": [
        "df_djl = pd.Dataframe()\n",
        "df_djl[\"xt\"] = [x for x in x.values]\n",
        "df_djl[\"at\"] = A.flatten()\n",
        "df_djl[\"yt\"] = Y\n",
        "\n",
        "from sklearn.model_selection import train_test_split\n",
        "df_train, df_test = train_test_split(df_djl, test_size=0.2, random_state=42)\n",
        "\n",
        "# DJLインスタンス作成・初期化\n",
        "djl = DJL(m=10, mlp_max_iter=200, gamma=1.0)\n",
        "djl.initialize_trainting(df_train)\n",
        "\n",
        "# ジャンプ点を取得\n",
        "tau = djl.get_partition()\n",
        "print(\"ジャンプ点:\",tau)\n",
        "\n",
        "# ポリシー定義（例：価格が100ユーロならその値を返す）\n",
        "def my_policy(x):\n",
        "    return 100 / 120  # 正規化済みの処置空間（0〜1）\n",
        "\n",
        "# 推定\n",
        "V_hat = djl.evaluate(tau, df_test, my_policy)\n",
        "print(\"推定値 V̂:\", V_hat)"
      ],
      "metadata": {
        "id": "s1oULVq6WNB6"
      },
      "execution_count": null,
      "outputs": []
    }
  ]
}